{
  "nbformat": 4,
  "nbformat_minor": 0,
  "metadata": {
    "colab": {
      "provenance": [],
      "authorship_tag": "ABX9TyPssy0yZVqvJ+Oyz6NWQMGs",
      "include_colab_link": true
    },
    "kernelspec": {
      "name": "python3",
      "display_name": "Python 3"
    },
    "language_info": {
      "name": "python"
    }
  },
  "cells": [
    {
      "cell_type": "markdown",
      "metadata": {
        "id": "view-in-github",
        "colab_type": "text"
      },
      "source": [
        "<a href=\"https://colab.research.google.com/github/mannanj/Tests/blob/master/AI_Image_Generator.ipynb\" target=\"_parent\"><img src=\"https://colab.research.google.com/assets/colab-badge.svg\" alt=\"Open In Colab\"/></a>"
      ]
    },
    {
      "cell_type": "code",
      "execution_count": null,
      "metadata": {
        "id": "7ciIyr-T6K9_"
      },
      "outputs": [],
      "source": [
        "## Source\n",
        "## https://twitter.com/svpino/status/1635611742008147968?s=61&t=42E5IP0xX0DGYTRlU5HL1w\n",
        "\n",
        "import requests\n",
        "import json\n",
        "import time\n",
        "\n",
        "API_KEY = \"9d2fc21d-9757-479d-b090-ec3d3db35b87\"\n",
        "\n",
        "HEADERS = {\n",
        "    \"accept\": \"application/json\",\n",
        "    \"content-type\": \"application/json\",\n",
        "    \"authorization\": f\"Bearer {API_KEY}\"\n",
        "}\n",
        "\n",
        "IMAGES = [\n",
        "    \"https://i.imgur.com/BHRjIsY.jpg\",\n",
        "    \"https://i.imgur.com/HLKcGte.jpg\",\n",
        "    \"https://i.imgur.com/oqd1lM8.jpg\"\n",
        "]"
      ]
    }
  ]
}